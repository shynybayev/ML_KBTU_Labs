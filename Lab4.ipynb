{
 "cells": [
  {
   "cell_type": "code",
   "execution_count": 6,
   "metadata": {},
   "outputs": [],
   "source": [
    "#Lab 4\n",
    "import numpy as np\n",
    "import matplotlib.pyplot as plt\n",
    "\n",
    "def sigm(x):\n",
    "    return 1.0/(1.0 + np.exp(-x))\n",
    "def sigm_prime(x):\n",
    "    return x*(1.0-x)\n",
    "def tanh(x):\n",
    "    return np.tanh(x)\n",
    "def tanh_prime(x):\n",
    "    return 1.0 - x**2\n"
   ]
  },
  {
   "cell_type": "code",
   "execution_count": 5,
   "metadata": {},
   "outputs": [
    {
     "name": "stdout",
     "output_type": "stream",
     "text": [
      "[[ 0.57886859  0.89908227 -0.80612092]\n",
      " [ 0.24414134  0.57597747  0.66028088]\n",
      " [-0.83685774  0.12566574  0.6672535 ]]\n",
      "[[-0.04313255]\n",
      " [-0.21805688]\n",
      " [-0.4155603 ]]\n",
      "epochs: 0\n",
      "[array([-0.00151664, -0.00606043, -0.01478512]), array([0.14300224])]\n",
      "epochs: 10000\n",
      "[array([-0.01942271,  0.02010925, -0.04851493]), array([0.0854289])]\n",
      "epochs: 20000\n",
      "[array([-0.0012598 ,  0.00072876, -0.00186363]), array([0.00247707])]\n",
      "epochs: 30000\n",
      "[array([-0.00055822,  0.00029322, -0.00082416]), array([0.00111529])]\n",
      "epochs: 40000\n",
      "[array([-0.00033607,  0.00017968, -0.00052093]), array([0.00070425])]\n",
      "epochs: 50000\n",
      "[array([-0.00021893,  0.00012913, -0.00036663]), array([0.00049432])]\n",
      "epochs: 60000\n",
      "[array([-1.74228147e-04,  9.54746895e-05, -2.83076500e-04]), array([0.00038707])]\n",
      "epochs: 70000\n",
      "[array([-1.41666939e-04,  7.81974653e-05, -2.35029214e-04]), array([0.00032081])]\n",
      "epochs: 80000\n",
      "[array([-1.17489228e-04,  6.53005006e-05, -1.97605542e-04]), array([0.00027064])]\n",
      "epochs: 90000\n",
      "[array([ 3.26955169e-06, -4.98839540e-07,  2.40634371e-04]), array([-0.0003083])]\n",
      "[0 0] [0.01418313]\n",
      "[0 1] [0.98554041]\n",
      "[1 0] [0.98546555]\n",
      "[1 1] [0.01657924]\n"
     ]
    }
   ],
   "source": [
    "import numpy as np\n",
    "\n",
    "\n",
    "class NeuralNetwork:\n",
    "\n",
    "    def __init__(self, layers):\n",
    "        self.activation = sigm\n",
    "        self.activation_prime = sigm_prime\n",
    "        self.weights = []\n",
    "        \n",
    "        for i in range(1, len(layers) - 1):\n",
    "            r = 2*np.random.random((layers[i-1] + 1, layers[i] + 1)) -1\n",
    "            self.weights.append(r)\n",
    "            print(r)\n",
    "        r = 2*np.random.random( (layers[i] + 1, layers[i+1])) - 1\n",
    "        print(r)\n",
    "        self.weights.append(r)\n",
    "\n",
    "    def fit(self, X, y, learning_rate=0.2, epochs=100000):\n",
    "        ones = np.atleast_2d(np.ones(X.shape[0]))\n",
    "        X = np.concatenate((ones.T, X), axis=1)\n",
    "        for k in range(epochs):\n",
    "            i = np.random.randint(X.shape[0])\n",
    "            a = [X[i]]\n",
    "\n",
    "            for l in range(len(self.weights)):\n",
    "                    dot_value = np.dot(a[l], self.weights[l])\n",
    "                    activation = self.activation(dot_value)\n",
    "                    a.append(activation)\n",
    "            error = y[i] - a[-1]\n",
    "            deltas = [error * self.activation_prime(a[-1])]\n",
    "\n",
    "           \n",
    "            for l in range(len(a) - 2, 0, -1): \n",
    "                deltas.append(deltas[-1].dot(self.weights[l].T)*self.activation_prime(a[l]))\n",
    "\n",
    "            deltas.reverse()\n",
    "\n",
    "            # backpropagation\n",
    "            for i in range(len(self.weights)):\n",
    "                layer = np.atleast_2d(a[i])\n",
    "                delta = np.atleast_2d(deltas[i])\n",
    "                self.weights[i] += learning_rate * layer.T.dot(delta)\n",
    "\n",
    "            if k % 10000 == 0: \n",
    "                print('epochs:', k)\n",
    "                print (deltas)\n",
    "\n",
    "    def predict(self, x): \n",
    "    \n",
    "        a = np.concatenate((np.ones(1).T, np.array(x)))      \n",
    "\n",
    "        for l in range(0, len(self.weights)):\n",
    "            a = self.activation(np.dot(a, self.weights[l]))\n",
    "        return a\n",
    "\n",
    "if __name__ == '__main__':\n",
    "\n",
    "    nn = NeuralNetwork([2,2,1])\n",
    "    X = np.array([[0, 0],\n",
    "                  [0, 1],\n",
    "                  [1, 0],\n",
    "                  [1, 1]])\n",
    "    y = np.array([0, 1, 1, 0])\n",
    "\n",
    "\n",
    "    nn.fit(X, y)\n",
    "    for e in X:\n",
    "        print(e,nn.predict(e))\n"
   ]
  },
  {
   "cell_type": "code",
   "execution_count": 7,
   "metadata": {},
   "outputs": [
    {
     "data": {
      "text/plain": [
       "[<matplotlib.lines.Line2D at 0xa828030>]"
      ]
     },
     "execution_count": 7,
     "metadata": {},
     "output_type": "execute_result"
    },
    {
     "data": {
      "image/png": "[encoded data removed]",
      "text/plain": [
       "<Figure size 432x288 with 1 Axes>"
      ]
     },
     "metadata": {
      "needs_background": "light"
     },
     "output_type": "display_data"
    }
   ],
   "source": [
    "%matplotlib inline\n",
    "x = np.linspace(-10.0,10.0,100)\n",
    "sig = sigm_prime(x)\n",
    "plt.plot(x,sig)\n"
   ]
  },
  {
   "cell_type": "code",
   "execution_count": null,
   "metadata": {},
   "outputs": [],
   "source": []
  }
 ],
 "metadata": {
  "kernelspec": {
   "display_name": "Python 3",
   "language": "python",
   "name": "python3"
  },
  "language_info": {
   "codemirror_mode": {
    "name": "ipython",
    "version": 3
   },
   "file_extension": ".py",
   "mimetype": "text/x-python",
   "name": "python",
   "nbconvert_exporter": "python",
   "pygments_lexer": "ipython3",
   "version": "3.7.4"
  }
 },
 "nbformat": 4,
 "nbformat_minor": 2
}
